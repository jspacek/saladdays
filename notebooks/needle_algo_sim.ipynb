{
 "cells": [
  {
   "cell_type": "code",
   "execution_count": null,
   "metadata": {},
   "outputs": [],
   "source": [
    "n = 12\n",
    "proxies = [0 for i in range(n)]\n",
    "known_proxies= []\n",
    "\n",
    "# we have a list of 12 proxies, each window is 3 proxies, window slides 1 step at a time\n",
    "window_size = 3\n",
    "window_increment = 1\n",
    "\n",
    "while (len(known_proxies) < n)\n",
    "\n",
    "    # sort proxies by value (value is the load)\n",
    "    sorted_proxies = sorted(proxies, key=lambda p: p, reverse=True)\n",
    "    print (sorted_proxies)\n",
    "    # calculate the window indeces\n",
    "    i = sliding_window % n\n",
    "    j = (sliding_window + window_size - 1) % n\n",
    "    \n",
    "    # Choose randomly from the window, that is the top most heavily loaded proxies descending\n",
    "    random_interval = random.randint(0, (victim_size-1))\n",
    "    random_index = (random_interval + i) % n\n",
    "    random_proxy_victim = self.proxies[random_index]\n",
    "\n",
    "    i = i + window_increment\n",
    "\n",
    "print (proxies)\n",
    "print (sorted_proxies)"
   ]
  }
 ],
 "metadata": {
  "kernelspec": {
   "display_name": "Python 3",
   "language": "python",
   "name": "python3"
  },
  "language_info": {
   "codemirror_mode": {
    "name": "ipython",
    "version": 3
   },
   "file_extension": ".py",
   "mimetype": "text/x-python",
   "name": "python",
   "nbconvert_exporter": "python",
   "pygments_lexer": "ipython3",
   "version": "3.6.7"
  }
 },
 "nbformat": 4,
 "nbformat_minor": 2
}
